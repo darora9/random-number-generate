{
  "nbformat": 4,
  "nbformat_minor": 0,
  "metadata": {
    "colab": {
      "provenance": [],
      "authorship_tag": "ABX9TyOJWOYB9kYz1cRlFw6JqT5q",
      "include_colab_link": true
    },
    "kernelspec": {
      "name": "python3",
      "display_name": "Python 3"
    },
    "language_info": {
      "name": "python"
    }
  },
  "cells": [
    {
      "cell_type": "markdown",
      "metadata": {
        "id": "view-in-github",
        "colab_type": "text"
      },
      "source": [
        "<a href=\"https://colab.research.google.com/github/darora9/random-number-generate/blob/main/random_number_generate.ipynb\" target=\"_parent\"><img src=\"https://colab.research.google.com/assets/colab-badge.svg\" alt=\"Open In Colab\"/></a>"
      ]
    },
    {
      "cell_type": "code",
      "execution_count": null,
      "metadata": {
        "id": "gqnifkM_0yM0"
      },
      "outputs": [],
      "source": [
        "import random as r\n",
        "\n",
        "numbers=[]\n",
        "even=[]\n",
        "odd=[]\n",
        "prime=[]\n",
        "\n",
        "for i in range(100):\n",
        "  n=r.randint(100,900)\n",
        "  numbers.append(n)\n",
        "  if n%2==0:\n",
        "    even.append(n)\n",
        "  else:\n",
        "    odd.append(n)\n",
        "\n",
        "  for p in range(2,n//2+1):\n",
        "    a=0\n",
        "    if n%p==0:\n",
        "      a=1\n",
        "  if a!=1:\n",
        "   prime.append(n)\n",
        "\n",
        "print (\"all the odd digits are--->\", odd)\n",
        "print (\"number of odd digits are--->\", len(odd))\n",
        "print (\"all the even digits are--->\", even)\n",
        "print (\"number of even digits are--->\", len(even))\n",
        "print (\"all the prime digits are--->\", prime)\n",
        "print (\"number of prime digits are--->\", len(prime))\n",
        "\n",
        "\n"
      ]
    }
  ]
}